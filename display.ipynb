{
 "cells": [
  {
   "cell_type": "code",
   "execution_count": 14,
   "metadata": {},
   "outputs": [],
   "source": [
    "import matplotlib.pyplot as plt\n",
    "from pkgs.lagrange import lagrange"
   ]
  },
  {
   "cell_type": "code",
   "execution_count": 15,
   "metadata": {},
   "outputs": [],
   "source": [
    "q1 = (0,6)\n",
    "q2 = [2,8]\n",
    "q3 = [6, 10]\n",
    "q4 = [11, 8]\n",
    "q5 = (16, 6)\n",
    "q6 = [20, 8]\n",
    "q7 = [25, 2]\n",
    "q8 = [28, 0]\n",
    "\n",
    "q_all3 = [q1,q2,q3]\n",
    "q_all4 = [q1,q2,q3,q4]\n",
    "q_all8 = [q1,q2,q3,q4,q5,q6,q7,q8]"
   ]
  },
  {
   "cell_type": "code",
   "execution_count": 16,
   "metadata": {},
   "outputs": [
    {
     "data": {
      "text/plain": [
       "[(0, 6), [2, 8], [6, 10], [11, 8], (16, 6), [20, 8], [25, 2], [28, 0]]"
      ]
     },
     "execution_count": 16,
     "metadata": {},
     "output_type": "execute_result"
    }
   ],
   "source": [
    "q_all8"
   ]
  },
  {
   "cell_type": "code",
   "execution_count": 17,
   "metadata": {},
   "outputs": [],
   "source": [
    "def getCORD(points):\n",
    "\n",
    "    x_cord = []\n",
    "    y_cord = []\n",
    "\n",
    "    for i in range(len(points)):\n",
    "\n",
    "        x_cord.append(points[i][0])\n",
    "        y_cord.append(points[i][1])\n",
    "        \n",
    "    return x_cord, y_cord"
   ]
  },
  {
   "cell_type": "code",
   "execution_count": 18,
   "metadata": {},
   "outputs": [],
   "source": [
    "x,y = getCORD(q_all8)"
   ]
  },
  {
   "cell_type": "code",
   "execution_count": 19,
   "metadata": {},
   "outputs": [
    {
     "data": {
      "text/plain": [
       "[<matplotlib.lines.Line2D at 0x7f29977e5048>]"
      ]
     },
     "execution_count": 19,
     "metadata": {},
     "output_type": "execute_result"
    },
    {
     "data": {
      "image/png": "[encoded data removed]",
      "text/plain": [
       "<Figure size 432x288 with 1 Axes>"
      ]
     },
     "metadata": {
      "needs_background": "light"
     },
     "output_type": "display_data"
    }
   ],
   "source": [
    "xpred = 22\n",
    "plt.grid(ls='-.')\n",
    "plt.plot(x,y, 'o', color='black')\n",
    "plt.plot(xpred, lagrange(xpred,x,y), 'o', color='red')\n",
    "xpred = 23\n",
    "plt.plot(xpred, lagrange(xpred,x,y), 'o', color='orange')\n",
    "xpred = 24\n",
    "plt.plot(xpred, lagrange(xpred,x,y), 'o', color='gold')"
   ]
  }
 ],
 "metadata": {
  "kernelspec": {
   "display_name": "Python 3",
   "language": "python",
   "name": "python3"
  },
  "language_info": {
   "codemirror_mode": {
    "name": "ipython",
    "version": 3
   },
   "file_extension": ".py",
   "mimetype": "text/x-python",
   "name": "python",
   "nbconvert_exporter": "python",
   "pygments_lexer": "ipython3",
   "version": "3.5.2"
  }
 },
 "nbformat": 4,
 "nbformat_minor": 4
}
